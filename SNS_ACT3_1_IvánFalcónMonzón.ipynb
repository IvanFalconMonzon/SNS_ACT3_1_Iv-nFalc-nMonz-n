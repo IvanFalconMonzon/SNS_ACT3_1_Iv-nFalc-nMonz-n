{
  "nbformat": 4,
  "nbformat_minor": 0,
  "metadata": {
    "colab": {
      "provenance": []
    },
    "kernelspec": {
      "name": "python3",
      "display_name": "Python 3"
    },
    "language_info": {
      "name": "python"
    }
  },
  "cells": [
    {
      "cell_type": "markdown",
      "source": [
        "# IVÁN FALCÓN MONZÓN"
      ],
      "metadata": {
        "id": "rUJAWtz4hW3R"
      }
    },
    {
      "cell_type": "markdown",
      "source": [
        "24_25\n",
        "\n",
        "Actividad 3.1 - Métricas de error para los problemas de regresión\n",
        "\n",
        "A partir de los ejemplos indicados realizar los ejercicios propuestos"
      ],
      "metadata": {
        "id": "irnc2RYVuYVU"
      }
    },
    {
      "cell_type": "code",
      "execution_count": null,
      "metadata": {
        "colab": {
          "base_uri": "https://localhost:8080/"
        },
        "id": "jVLFdfzxdsfG",
        "outputId": "d56474bc-da6f-493a-afb9-89c122babbcf"
      },
      "outputs": [
        {
          "output_type": "execute_result",
          "data": {
            "text/plain": [
              "0.0"
            ]
          },
          "metadata": {},
          "execution_count": 1
        }
      ],
      "source": [
        "#Error absoluto medio - mae\n",
        "from sklearn.metrics import mean_absolute_error\n",
        "# Ejemplo 1\n",
        "y_true = [2.5, 0, 2, 8]\n",
        "y_pred = [2.5, 0, 2, 8]\n",
        "mean_absolute_error(y_true, y_pred)"
      ]
    },
    {
      "cell_type": "code",
      "source": [
        "# Ejer 1: Crear dos vectores/arrays de valores ciertos y valores previstos, y calcular el mae.\n",
        "# ¿Qué valores deberían de tener el array pred para que el error fuese 0? ¿y para que error fuese de 0.25?\n",
        "# IVAN FALCON MONZON\n",
        "\n",
        "# Importar librería necesaría\n",
        "from sklearn.metrics import mean_absolute_error\n",
        "\n",
        "# Arrays de valores ciertos (y_true) y valores previstos (y_pred)\n",
        "y_true = [1, 2, 3, 4]\n",
        "y_pred = [1, 2, 3, 4]  # Valores previstos para error 0\n",
        "\n",
        "# Cálculo del error absoluto medio (MAE)\n",
        "mae_error_0 = mean_absolute_error(y_true, y_pred)\n",
        "\n",
        "# Imprimir resultado\n",
        "print(\"MAE:\", mae_error_0)"
      ],
      "metadata": {
        "id": "67XK1bXegMai",
        "colab": {
          "base_uri": "https://localhost:8080/"
        },
        "outputId": "a189abc4-0506-4b64-8a0f-31855fa638c5"
      },
      "execution_count": null,
      "outputs": [
        {
          "output_type": "stream",
          "name": "stdout",
          "text": [
            "MAE: 0.0\n"
          ]
        }
      ]
    },
    {
      "cell_type": "code",
      "source": [
        "# Ejer 1: ¿y para que error fuese de 0.25?\n",
        "# IVAN FALCON MONZON\n",
        "# Para que el error sea 0.25\n",
        "# Importar librería necesaría\n",
        "from sklearn.metrics import mean_absolute_error\n",
        "\n",
        "# Arrays de valores ciertos (y_true) y valores previstos (y_pred)\n",
        "y_true = [1, 2, 3, 4]\n",
        "y_pred = [1.25, 2.25, 3.25, 4.25]  # Valores previstos para error 0.25\n",
        "\n",
        "# Cálculo del error absoluto medio (MAE)\n",
        "mae_error_0_25 = mean_absolute_error(y_true, y_pred)\n",
        "\n",
        "# Imprimir resultado\n",
        "print(\"MAE:\", mae_error_0_25)"
      ],
      "metadata": {
        "colab": {
          "base_uri": "https://localhost:8080/"
        },
        "id": "hsoXw4cohlMA",
        "outputId": "dc0775a1-ebe9-466d-f46d-c2f22f19861d"
      },
      "execution_count": null,
      "outputs": [
        {
          "output_type": "stream",
          "name": "stdout",
          "text": [
            "MAE: 0.25\n"
          ]
        }
      ]
    },
    {
      "cell_type": "code",
      "source": [
        "# Ejemplo 2\n",
        "y_true = [[0.5, 1], [-1, 1], [7, -6]]\n",
        "y_pred = [[0, 2], [-1, 2], [8, -5]]\n",
        "mean_absolute_error(y_true, y_pred)"
      ],
      "metadata": {
        "id": "3LhzsD30f60T",
        "colab": {
          "base_uri": "https://localhost:8080/"
        },
        "outputId": "5b3bed2c-0d18-45d9-f559-30033be6a5f6"
      },
      "execution_count": null,
      "outputs": [
        {
          "output_type": "execute_result",
          "data": {
            "text/plain": [
              "0.75"
            ]
          },
          "metadata": {},
          "execution_count": 2
        }
      ]
    },
    {
      "cell_type": "code",
      "source": [
        "# Ejer 2: Crear dos matrices/arrays de valores ciertos y valores previstos, y calcular el mae.\n",
        "# ¿Qué valores deberían de tener el array pred para que el error fuese 0? ¿y para que error fuese de 0.33?\n",
        "# IVAN FALCON MONZON\n",
        "# Importar librería necesaría\n",
        "from sklearn.metrics import mean_absolute_error\n",
        "\n",
        "# Matrices de valores ciertos (y_true) y valores previstos (y_pred)\n",
        "y_true = [[0.5, 1], [-1, 1], [7, -6]]\n",
        "y_pred = [[0.5, 1], [-1, 1], [7, -6]]  # Valores previstos para error 0\n",
        "\n",
        "# Cálculo del error absoluto medio (MAE)\n",
        "mae_error_0 = mean_absolute_error(y_true, y_pred)\n",
        "\n",
        "# Imprimir resultado\n",
        "print(\"MAE:\", mae_error_0)"
      ],
      "metadata": {
        "id": "LnPx6A4Astfq",
        "colab": {
          "base_uri": "https://localhost:8080/"
        },
        "outputId": "3cbcaaec-79f5-47c7-acec-998640b9613c"
      },
      "execution_count": null,
      "outputs": [
        {
          "output_type": "stream",
          "name": "stdout",
          "text": [
            "MAE: 0.0\n"
          ]
        }
      ]
    },
    {
      "cell_type": "code",
      "source": [
        "# Ejer 2: ¿y para que error fuese de 0.33?\n",
        "# IVAN FALCON MONZON\n",
        "# Importar librería necesaría\n",
        "from sklearn.metrics import mean_absolute_error\n",
        "\n",
        "# Matrices de valores ciertos (y_true) y valores previstos (y_pred)\n",
        "y_true = [[0.5, 1], [-1, 1], [7, -6]]\n",
        "y_pred = [[0.17, 1.33], [-1.33, 1.33], [7.33, -5.67]]  # Ajustados para MAE = 0.33\n",
        "\n",
        "# Cálculo del error absoluto medio (MAE)\n",
        "mae_error_0_33 = mean_absolute_error(y_true, y_pred)\n",
        "\n",
        "# Imprimir resultado\n",
        "print(\"MAE:\", mae_error_0_33)"
      ],
      "metadata": {
        "colab": {
          "base_uri": "https://localhost:8080/"
        },
        "id": "jmJw7qYWmP7s",
        "outputId": "06a02711-0fb4-4cc9-ffb6-9a6a1abed342"
      },
      "execution_count": null,
      "outputs": [
        {
          "output_type": "stream",
          "name": "stdout",
          "text": [
            "MAE: 0.33000000000000007\n"
          ]
        }
      ]
    },
    {
      "cell_type": "markdown",
      "source": [
        "![image.png](data:image/png;base64,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)"
      ],
      "metadata": {
        "id": "sEuAXyAroS1T"
      }
    },
    {
      "cell_type": "code",
      "source": [
        "# Error cuadrático medio - mse\n",
        "from sklearn.metrics import mean_squared_error\n",
        "y_true = [3, -0.5, 2, 7]\n",
        "y_pred = [2.5, 0.0, 2, 8]\n",
        "mean_squared_error(y_true, y_pred)"
      ],
      "metadata": {
        "colab": {
          "base_uri": "https://localhost:8080/"
        },
        "id": "59efr-GWgKP6",
        "outputId": "5c9e0885-11ea-4915-8f73-ee833361fda8"
      },
      "execution_count": null,
      "outputs": [
        {
          "output_type": "execute_result",
          "data": {
            "text/plain": [
              "0.375"
            ]
          },
          "metadata": {},
          "execution_count": 3
        }
      ]
    },
    {
      "cell_type": "code",
      "source": [
        "# Ejer 3: Crear dos vectores/arrays de valores ciertos y valores previstos, y calcular el mse.\n",
        "# ¿Qué valores deberían de tener el array pred para que el error fuese 0? ¿y para que error fuese de 0.25?\n",
        "# Nota: Es muy interesante comparar los resultados al aplicaer mae y mse sobre el mismo conjunto de datos. Podrás obervar\n",
        "#       que mse \"penaliza más\" (es decir, el número que se obtiene es mayor) con las diferencias entre los valores originales y los predichos que mae\n",
        "# IVAN FALCON MONZON\n",
        "# Importar librería necesaría\n",
        "from sklearn.metrics import mean_absolute_error\n",
        "\n",
        "# Arrays de valores ciertos (y_true) y valores previstos (y_pred)\n",
        "y_true = [4, -1, 5, 9]\n",
        "y_pred = [4, -1, 5, 9]  # Valores previstos para error 0\n",
        "\n",
        "# Cálculo del error cuadrático medio (MSE)\n",
        "mse_error_0 = mean_squared_error(y_true, y_pred)\n",
        "\n",
        "# Imprimir resultado\n",
        "print(\"MSE:\", mse_error_0)"
      ],
      "metadata": {
        "id": "FLZt6j17u7sE",
        "colab": {
          "base_uri": "https://localhost:8080/"
        },
        "outputId": "96ba4088-2c54-4e13-fee8-e1250086c45b"
      },
      "execution_count": null,
      "outputs": [
        {
          "output_type": "stream",
          "name": "stdout",
          "text": [
            "MSE: 0.0\n"
          ]
        }
      ]
    },
    {
      "cell_type": "code",
      "source": [
        "# Ejer 3: ¿y para que error fuese de 0.25?\n",
        "# IVAN FALCON MONZON\n",
        "# Importar librería necesaría\n",
        "from sklearn.metrics import mean_absolute_error\n",
        "\n",
        "# Arrays de valores ciertos (y_true) y valores previstos (y_pred)\n",
        "y_true = [4, -1, 5, 9]\n",
        "y_pred = [4.5, -1.5, 5.5, 8.5]  # Ajustados para MSE = 0.25\n",
        "\n",
        "# Cálculo del error cuadrático medio (MSE)\n",
        "mse_error_0_25 = mean_squared_error(y_true, y_pred)\n",
        "\n",
        "# Imprimir resultado\n",
        "print(\"MSE:\", mse_error_0_25)"
      ],
      "metadata": {
        "colab": {
          "base_uri": "https://localhost:8080/"
        },
        "id": "2Xt4DxxToVbc",
        "outputId": "1b1aab3a-a53d-4ecf-a9e0-c65dc5bed2e3"
      },
      "execution_count": null,
      "outputs": [
        {
          "output_type": "stream",
          "name": "stdout",
          "text": [
            "MSE: 0.25\n"
          ]
        }
      ]
    },
    {
      "cell_type": "markdown",
      "source": [
        "**Observación:**\n",
        "\n",
        "Al comparar **MAE** y **MSE** sobre el mismo conjunto de datos, notamos que MSE penaliza más las diferencias grandes debido a que las eleva al cuadrado.\n",
        "\n",
        "Esto significa que, para el mismo conjunto de datos:\n",
        "\n",
        "* MAE calcula el promedio de las diferencias absolutas.\n",
        "* MSE amplifica las diferencias grandes más que las pequeñas, resultando en un error más alto."
      ],
      "metadata": {
        "id": "H78CbhVGozK7"
      }
    },
    {
      "cell_type": "code",
      "source": [
        "# Ejer 4: Crear dos matrices/arrays de valores ciertos y valores previstos, y calcular el mae.\n",
        "# ¿Qué valores deberían de tener el array pred para que el error fuese 0? ¿y para que error fuese de 0.33?\n",
        "# IVAN FALCON MONZON\n",
        "# Importar librería necesaría\n",
        "from sklearn.metrics import mean_absolute_error\n",
        "\n",
        "# Matrices de valores ciertos (y_true) y valores previstos (y_pred)\n",
        "y_true = [[1, 2], [3, 4], [5, 6]]\n",
        "y_pred = [[1, 2], [3, 4], [5, 6]]  # Valores previstos para error 0\n",
        "\n",
        "# Cálculo del error absoluto medio (MAE)\n",
        "mae_error_0 = mean_absolute_error(y_true, y_pred)\n",
        "\n",
        "# Imprimir resultado\n",
        "print(\"MAE:\", mae_error_0)"
      ],
      "metadata": {
        "id": "M9nZd4nLvIRB",
        "colab": {
          "base_uri": "https://localhost:8080/"
        },
        "outputId": "fa43fb41-5774-4170-f239-b52cde9be1e2"
      },
      "execution_count": null,
      "outputs": [
        {
          "output_type": "stream",
          "name": "stdout",
          "text": [
            "MAE: 0.0\n"
          ]
        }
      ]
    },
    {
      "cell_type": "code",
      "source": [
        "# Ejer 4: ¿y para que error fuese de 0.33?\n",
        "# IVAN FALCON MONZON\n",
        "# Importar librería necesaría\n",
        "from sklearn.metrics import mean_absolute_error\n",
        "\n",
        "# Matrices de valores ciertos (y_true) y valores previstos (y_pred)\n",
        "y_true = [[1, 2], [3, 4], [5, 6]]\n",
        "y_pred = [[1.33, 2.33], [3.33, 4.33], [4.67, 5.67]]  # Ajustados para MAE = 0.33\n",
        "\n",
        "# Cálculo del error absoluto medio (MAE)\n",
        "mae_error_0_33 = mean_absolute_error(y_true, y_pred)\n",
        "\n",
        "# Imprimir resultado\n",
        "print(\"MAE:\", mae_error_0_33)"
      ],
      "metadata": {
        "colab": {
          "base_uri": "https://localhost:8080/"
        },
        "id": "_2qz7T-uqAyL",
        "outputId": "2567d522-c945-4ff5-e455-cf239213e0b8"
      },
      "execution_count": null,
      "outputs": [
        {
          "output_type": "stream",
          "name": "stdout",
          "text": [
            "MAE: 0.33000000000000007\n"
          ]
        }
      ]
    },
    {
      "cell_type": "code",
      "source": [
        "# Ejer 4: MSE con error 0\n",
        "# IVAN FALCON MONZON\n",
        "# Importar librería necesaría\n",
        "from sklearn.metrics import mean_absolute_error\n",
        "\n",
        "# Matrices de valores ciertos (y_true) y valores previstos (y_pred)\n",
        "y_true = [[1, 2], [3, 4], [5, 6]]\n",
        "y_pred = [[1, 2], [3, 4], [5, 6]]  # Valores previstos para error 0\n",
        "\n",
        "# Cálculo del error cuadrático medio (MSE)\n",
        "mse_error_0 = mean_squared_error(y_true, y_pred)\n",
        "\n",
        "# Imprimir resultado\n",
        "print(\"MSE con error 0:\", mse_error_0)"
      ],
      "metadata": {
        "colab": {
          "base_uri": "https://localhost:8080/"
        },
        "id": "W6s11knSqBS7",
        "outputId": "4224f05b-53b8-40ca-c731-4bab70764c38"
      },
      "execution_count": null,
      "outputs": [
        {
          "output_type": "stream",
          "name": "stdout",
          "text": [
            "MSE con error 0: 0.0\n"
          ]
        }
      ]
    },
    {
      "cell_type": "code",
      "source": [
        "# Ejer 4: MSE con error 0.33\n",
        "# IVAN FALCON MONZON\n",
        "# Importar librería necesaría\n",
        "from sklearn.metrics import mean_absolute_error\n",
        "\n",
        "# Matrices de valores ciertos (y_true) y valores previstos (y_pred)\n",
        "y_true = [[1, 2], [3, 4], [5, 6]]\n",
        "y_pred = [[1.5745, 2.5745], [3.5745, 4.5745], [5.5745, 6.5745]]  # Ajustados para MSE = 0.33\n",
        "\n",
        "# Cálculo del error cuadrático medio (MSE)\n",
        "mse_error_0_33 = mean_squared_error(y_true, y_pred)\n",
        "\n",
        "# Imprimir resultado\n",
        "print(\"MSE con error 0.33:\", mse_error_0_33)"
      ],
      "metadata": {
        "colab": {
          "base_uri": "https://localhost:8080/"
        },
        "id": "ElW3YZXuqBe0",
        "outputId": "bbcb2c34-1d03-4370-ce4d-69abdd8ce284"
      },
      "execution_count": null,
      "outputs": [
        {
          "output_type": "stream",
          "name": "stdout",
          "text": [
            "MSE con error 0.33: 0.33005024999999977\n"
          ]
        }
      ]
    },
    {
      "cell_type": "markdown",
      "source": [
        "Cálculo manual:\n",
        "\n",
        "(\n",
        "1\n",
        "−\n",
        "1.5745\n",
        ")\n",
        "2\n",
        "+\n",
        "(\n",
        "2\n",
        "−\n",
        "2.5745\n",
        ")\n",
        "2\n",
        "+\n",
        "(\n",
        "3\n",
        "−\n",
        "3.5745\n",
        ")\n",
        "2\n",
        "+\n",
        "(\n",
        "4\n",
        "−\n",
        "4.5745\n",
        ")\n",
        "2\n",
        "+\n",
        "(\n",
        "5\n",
        "−\n",
        "5.5745\n",
        ")\n",
        "2\n",
        "+\n",
        "(\n",
        "6\n",
        "−\n",
        "6.5745\n",
        ")\n",
        "2\n",
        "=\n",
        "1.98\n",
        "(1−1.5745)\n",
        "2\n",
        " +(2−2.5745)\n",
        "2\n",
        " +(3−3.5745)\n",
        "2\n",
        " +(4−4.5745)\n",
        "2\n",
        " +(5−5.5745)\n",
        "2\n",
        " +(6−6.5745)\n",
        "2\n",
        " =1.98\n",
        "\n",
        "\n",
        "Resultado esperado: MSE con error 0.33: 0.33"
      ],
      "metadata": {
        "id": "w0HVhaoKrQP0"
      }
    },
    {
      "cell_type": "code",
      "source": [
        "# Error de porcentaje absoluto medio - mape\n",
        "from sklearn.metrics import mean_absolute_percentage_error\n",
        "y_true = [3, -0.5, 2, 7]\n",
        "y_pred = [2.5, 0.0, 2, 8]\n",
        "mean_absolute_percentage_error(y_true, y_pred)"
      ],
      "metadata": {
        "colab": {
          "base_uri": "https://localhost:8080/"
        },
        "id": "0j3DDJPnBTmF",
        "outputId": "4741fe56-cc0c-4854-cc0f-6d00c44e038e"
      },
      "execution_count": null,
      "outputs": [
        {
          "output_type": "execute_result",
          "data": {
            "text/plain": [
              "0.3273809523809524"
            ]
          },
          "metadata": {},
          "execution_count": 20
        }
      ]
    },
    {
      "cell_type": "code",
      "source": [
        "# Ejer 5: Crear dos vectores/arrays de valores ciertos y valores previstos, y calcular el mape.\n",
        "# ¿Qué valores deberían de tener el array pred para que el error fuese 0?\n",
        "# IVAN FALCON MONZON\n",
        "# Importar librería necesaría\n",
        "from sklearn.metrics import mean_absolute_error\n",
        "\n",
        "# Vectores de valores ciertos (y_true) y valores previstos (y_pred)\n",
        "y_true = [3, 4, 5, 6]  # Valores reales\n",
        "y_pred = [3, 4, 5, 6]  # Valores previstos iguales a y_true para MAPE = 0\n",
        "\n",
        "# Cálculo del error de porcentaje absoluto medio - mape\n",
        "mape_error_0 = mean_absolute_percentage_error(y_true, y_pred)\n",
        "\n",
        "# Imprimir resultado\n",
        "print(\"MAPE:\", mape_error_0)"
      ],
      "metadata": {
        "id": "0vsYXdRqB0TE",
        "colab": {
          "base_uri": "https://localhost:8080/"
        },
        "outputId": "82c0ea40-6c0d-48d8-ad2d-7f8f02e22665"
      },
      "execution_count": null,
      "outputs": [
        {
          "output_type": "stream",
          "name": "stdout",
          "text": [
            "MAPE: 0.0\n"
          ]
        }
      ]
    },
    {
      "cell_type": "code",
      "source": [
        "# Ejer 6: Crear dos matrices/arrays de valores ciertos y valores previstos, y calcular el MAPE.\n",
        "# ¿Qué valores deberían de tener el array pred para que el error fuese 0?\n",
        "# IVAN FALCON MONZON\n",
        "# Importar librería necesaría\n",
        "from sklearn.metrics import mean_absolute_error\n",
        "\n",
        "# Matrices de valores ciertos (y_true) y valores previstos (y_pred)\n",
        "y_true = [[1, 2], [3, 4], [5, 6]]  # Valores reales\n",
        "y_pred = [[1, 2], [3, 4], [5, 6]]  # Valores previstos iguales a y_true para MAPE = 0\n",
        "\n",
        "# Cálculo del error de porcentaje absoluto medio - mape\n",
        "mape_error_0 = mean_absolute_percentage_error(y_true, y_pred)\n",
        "\n",
        "# Imprimir resultado\n",
        "print(\"MAPE:\", mape_error_0)"
      ],
      "metadata": {
        "id": "085pmFVO-cA3",
        "colab": {
          "base_uri": "https://localhost:8080/"
        },
        "outputId": "7440ed25-35ba-4c28-d26b-e3b2c50c2a93"
      },
      "execution_count": null,
      "outputs": [
        {
          "output_type": "stream",
          "name": "stdout",
          "text": [
            "MAPE: 0.0\n"
          ]
        }
      ]
    },
    {
      "cell_type": "markdown",
      "source": [
        "![image.png](data:image/png;base64,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)"
      ],
      "metadata": {
        "id": "SwZ5tUD-s3R0"
      }
    },
    {
      "cell_type": "markdown",
      "source": [
        "\n",
        "Conclusión:\n",
        "\n",
        "1. MAE: Mide diferencias absolutas promedio; útil para interpretar errores de forma sencilla y menos sensible a valores extremos.\n",
        "2. MSE: Penaliza más los errores grandes al elevar al cuadrado las diferencias; útil en problemas sensibles a grandes desviaciones.\n",
        "3. MAPE: Mide errores relativos en porcentaje; ideal para comparar datos en distintas escalas, pero cuidado con valores cercanos a 0.\n",
        "4. Errores nulos: En todas las métricas, el error es 0 si los valores reales y previstos son idénticos."
      ],
      "metadata": {
        "id": "4lGa90Lls5mk"
      }
    },
    {
      "cell_type": "markdown",
      "source": [
        "**Comparación: MAE vs MSE vs MAPE**\n",
        "\n",
        "MAE:\n",
        "*  Mide el promedio de las diferencias absolutas.\n",
        "*  Es menos sensible a valores extremos.\n",
        "*  Fácil de interpretar y trabaja en las mismas unidades de los datos.\n",
        "\n",
        "MSE:\n",
        "*  Promedio de los cuadrados de las diferencias.\n",
        "*  Penaliza más los errores grandes.\n",
        "*  Útil cuando los grandes errores tienen un impacto significativo.\n",
        "\n",
        "MAPE:\n",
        "*  Mide el error en porcentaje respecto a los valores reales.\n",
        "*  Útil para comparar errores entre datos de diferentes escalas.\n",
        "*  Puede ser inestable si hay valores reales cercanos a 0.\n",
        "\n",
        "Conclusión conjunta:\n",
        "* MAE es robusto ante outliers.\n",
        "* MSE penaliza más grandes errores.\n",
        "* MAPE es ideal para interpretaciones relativas o escalas distintas, pero sensible a valores pequeños."
      ],
      "metadata": {
        "id": "6gNuDG12udQE"
      }
    }
  ]
}